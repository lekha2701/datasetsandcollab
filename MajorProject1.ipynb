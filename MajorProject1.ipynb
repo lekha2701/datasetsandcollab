{
  "nbformat": 4,
  "nbformat_minor": 0,
  "metadata": {
    "colab": {
      "provenance": [],
      "authorship_tag": "ABX9TyM35KNqx1ogKEfvmaQ8x0bc",
      "include_colab_link": true
    },
    "kernelspec": {
      "name": "python3",
      "display_name": "Python 3"
    },
    "language_info": {
      "name": "python"
    }
  },
  "cells": [
    {
      "cell_type": "markdown",
      "metadata": {
        "id": "view-in-github",
        "colab_type": "text"
      },
      "source": [
        "<a href=\"https://colab.research.google.com/github/lekha2701/datasetsandcollab/blob/main/MajorProject1.ipynb\" target=\"_parent\"><img src=\"https://colab.research.google.com/assets/colab-badge.svg\" alt=\"Open In Colab\"/></a>"
      ]
    },
    {
      "cell_type": "code",
      "execution_count": null,
      "metadata": {
        "colab": {
          "base_uri": "https://localhost:8080/",
          "height": 1000
        },
        "id": "h1ebPU099viw",
        "outputId": "7844ac34-2721-4586-fa3c-13ba8fde9f05"
      },
      "outputs": [
        {
          "output_type": "execute_result",
          "data": {
            "text/plain": [
              "                                        news_headline  \\\n",
              "0   I'm a sucker for underdog stories, talking to ...   \n",
              "1   Bolta hoon bhai: Rajasthan Royals to fan reque...   \n",
              "2   Why are KXIP players wearing black armbands in...   \n",
              "3   IPL 2020 points table is getting interesting: ...   \n",
              "4   How many Indian cricketers have hit 100 sixes ...   \n",
              "5   Sandeep becomes 6th Indian pacer to take 100 I...   \n",
              "6   Who is Varun Chakravarthy, ex-architect who re...   \n",
              "7   Why did KKR's Rana flaunt jersey with 'Surinde...   \n",
              "8   KKR hand DC their 2nd loss in a row as Varun r...   \n",
              "9   Hats off for turning up: Sachin on Rana, Mande...   \n",
              "10  KXIP take last 6 wickets in 13 balls to defend...   \n",
              "11  Tanmay, who top-scored in 2008 U-19 WC which I...   \n",
              "12  Dhoni would be a lot more hurt as youngsters l...   \n",
              "13  Padikkal hasn't got Hayden's chest but definit...   \n",
              "14  CSK's Imran Tahir gives Riyan Parag leg-spin l...   \n",
              "15  Happy to be back and performing: Narine on 64(...   \n",
              "16  Almost perfect performance, lucky to have Bumr...   \n",
              "17  Finally, RCB bowling unit has earned captain V...   \n",
              "18  Glad it's happening at this point of time: Iye...   \n",
              "19  Gave Bumrah the new ball to counter Rayudu: MI...   \n",
              "20  Want to ensure India-China standoff doesn't es...   \n",
              "21  It's not how you talk about friends: Biden on ...   \n",
              "22  Nepal PM uses old map without Indian territory...   \n",
              "23  Monitoring Ladakh standoff, sharing info with ...   \n",
              "24  I voted for a guy named Trump: US Prez Trump c...   \n",
              "25  Just hair, bones: Officials as 7 decomposed bo...   \n",
              "26  US warns of Listeria outbreak linked to deli m...   \n",
              "27  Pakistani man born without arms masters playin...   \n",
              "28  What is yellow dust, which North Korea warned ...   \n",
              "29  In many ways it's good, in many ways foolish: ...   \n",
              "30  Senior al-Qaeda leader al-Masri who was on FBI...   \n",
              "31  Trump's dangerous rhetoric fuelled hate crimes...   \n",
              "32  State institute imports COVID-19 vaccine rejec...   \n",
              "33  US reports its biggest rise in daily COVID-19 ...   \n",
              "34  Asia becomes 2nd region in world to cross 1 cr...   \n",
              "35  Poland President Andrzej Duda tests positive f...   \n",
              "36  We may not recognise HK residents' British ove...   \n",
              "37  Release of Fukushima's water into sea can dama...   \n",
              "38  Will talk to UK PM to get Nawaz Sharif deporte...   \n",
              "39  No justification for Uighur concentration camp...   \n",
              "40  Former Maharashtra CM Devendra Fadnavis tests ...   \n",
              "41  Farooq to be Prez, Mufti Vice-Prez of People's...   \n",
              "42  Janta Dal Rashtravadi Party's candidate shot d...   \n",
              "43  If you have ED, I have CD: Eknath Khadse after...   \n",
              "44  President Kovind, Prime Minister Modi greet na...   \n",
              "45  J&K leaders sometimes more dangerous than sepa...   \n",
              "46  Conspiracies of 'Gupkar gang' will not be tole...   \n",
              "47  Those who promoted jungle raj are talking of d...   \n",
              "48  We have to light a lamp at home in honour of s...   \n",
              "49  Include sanitation workers, domestic helps, gu...   \n",
              "50  Why no Hathras-like picnic over Punjab rape: S...   \n",
              "51  None of the Gandhis visited rape victim's fami...   \n",
              "52  PM Modi pays tribute to former PM Indira Gandh...   \n",
              "53  Mufti must be arrested for seditious remarks o...   \n",
              "54  Rajnath Singh performs 'Shastra Puja' with Ind...   \n",
              "55  COVID-19 vaccine should be free throughout the...   \n",
              "56  Make COVID-19 vaccine free in K'taka too: Sidd...   \n",
              "57  Delhi CM Kejriwal inaugurates flyovers at Seel...   \n",
              "58  Delhi court issues bailable warrant against Ka...   \n",
              "59  Lalu ji to be released on Nov 9, Nitish's fare...   \n",
              "\n",
              "                                         news_article news_category  \n",
              "0   Talking about KKR spinner Varun Chakravarthy, ...        sports  \n",
              "1   A fan took to Twitter to request Rajasthan Roy...        sports  \n",
              "2   Kings XI Punjab cricketers are wearing black a...        sports  \n",
              "3   After KXIP took SRH's last six wickets in 13 b...        sports  \n",
              "4   DC's Rishabh Pant today became the 14th Indian...        sports  \n",
              "5   SRH pacer Sandeep Sharma on Saturday became th...        sports  \n",
              "6   KKR spinner Varun Chakravarthy was born on Aug...        sports  \n",
              "7   Kolkata Knight Riders batsman Nitish Rana flau...        sports  \n",
              "8   KKR defeated DC by 59 runs in Abu Dhabi on Sat...        sports  \n",
              "9   Former India batsman Sachin Tendulkar lauded K...        sports  \n",
              "10  Kings XI Punjab defeated SunRisers Hyderabad b...        sports  \n",
              "11  Tanmay Srivastava, who top-scored in 2008 Unde...        sports  \n",
              "12  Talking about CSK's 10-wicket defeat against M...        sports  \n",
              "13  Talking about RCB batsman Devdutt Padikkal, te...        sports  \n",
              "14  After the match between CSK and RR on Monday, ...        sports  \n",
              "15  KKR spinner Sunil Narine on Saturday returned ...        sports  \n",
              "16  Talking about their bowling against CSK on Fri...        sports  \n",
              "17  Former New Zealand all-rounder Scott Styris sa...        sports  \n",
              "18  After KKR defeated DC by 59 runs on Saturday, ...        sports  \n",
              "19  MI's stand-in-captain Kieron Pollard said he m...        sports  \n",
              "20  Trump administration officials said the US is ...         world  \n",
              "21  After US President Donald Trump said, \"Look at...         world  \n",
              "22  As India and Nepal try to mend ties after the ...         world  \n",
              "23  The United States is monitoring the India-Chin...         world  \n",
              "24  US President Donald Trump has cast his ballot ...         world  \n",
              "25  Paraguay authorities have found at least seven...         world  \n",
              "26  US' health protection agency CDC has warned ab...         world  \n",
              "27  A 32-year-old Pakistani man, Muhammad Ikram, w...         world  \n",
              "28  North Korea warned its citizens to remain indo...         world  \n",
              "29  During a rally in North Carolina on Saturday, ...         world  \n",
              "30  Afghanistan's National Directorate of Security...         world  \n",
              "31  In an op-ed for India West, Democratic Preside...         world  \n",
              "32  A day after Brazilian President Jair Bolsonaro...         world  \n",
              "33  The US has recorded its biggest one-day rise i...         world  \n",
              "34  Asia became the second region in the world to ...         world  \n",
              "35  Polish President Andrzej Duda has tested posit...         world  \n",
              "36  China said that it may not recognise British-i...         world  \n",
              "37  The release of Fukushima nuclear plant's conta...         world  \n",
              "38  Pakistan PM Imran Khan said that his governmen...         world  \n",
              "39  Talking about China's treatment of Uighur Musl...         world  \n",
              "40  BJP leader and former Maharashtra CM Devendra ...      politics  \n",
              "41  National Conference leader Farooq Abdullah wil...      politics  \n",
              "42  Narayan Singh, Janta Dal Rashtravadi Party's c...      politics  \n",
              "43  After quitting Bharatiya Janata Party (BJP) to...      politics  \n",
              "44  President Ram Nath Kovind and PM Narendra Modi...      politics  \n",
              "45  Union Minister of State (MoS) Jitendra Singh c...      politics  \n",
              "46  J&K BJP chief Ravinder Raina on Saturday said ...      politics  \n",
              "47  Bihar CM Nitish Kumar on Saturday, in an appar...      politics  \n",
              "48  Prime Minister Narendra Modi on Sunday address...      politics  \n",
              "49  Prime Minister Narendra Modi addressed the nat...      politics  \n",
              "50  Union Finance Minister Nirmala Sitharaman on S...      politics  \n",
              "51  After the half-burnt body of a six-year-old gi...      politics  \n",
              "52  Prime Minister Narendra Modi on Sunday remembe...      politics  \n",
              "53  The J&K BJP has criticised former CM Mehbooba ...      politics  \n",
              "54  Defence Minister Rajnath Singh on Sunday perfo...      politics  \n",
              "55  Delhi CM Arvind Kejriwal on Saturday said the ...      politics  \n",
              "56  Opposition leader Siddaramaiah said that the K...      politics  \n",
              "57  Delhi CM Arvind Kejriwal on Saturday inaugurat...      politics  \n",
              "58  A Delhi court has issued a bailable warrant ag...      politics  \n",
              "59  Rashtriya Janata Dal (RJD) leader Tejashwi Yad...      politics  "
            ],
            "text/html": [
              "\n",
              "  <div id=\"df-1deae1b7-63e4-43b9-8e02-d606851d49b5\">\n",
              "    <div class=\"colab-df-container\">\n",
              "      <div>\n",
              "<style scoped>\n",
              "    .dataframe tbody tr th:only-of-type {\n",
              "        vertical-align: middle;\n",
              "    }\n",
              "\n",
              "    .dataframe tbody tr th {\n",
              "        vertical-align: top;\n",
              "    }\n",
              "\n",
              "    .dataframe thead th {\n",
              "        text-align: right;\n",
              "    }\n",
              "</style>\n",
              "<table border=\"1\" class=\"dataframe\">\n",
              "  <thead>\n",
              "    <tr style=\"text-align: right;\">\n",
              "      <th></th>\n",
              "      <th>news_headline</th>\n",
              "      <th>news_article</th>\n",
              "      <th>news_category</th>\n",
              "    </tr>\n",
              "  </thead>\n",
              "  <tbody>\n",
              "    <tr>\n",
              "      <th>0</th>\n",
              "      <td>I'm a sucker for underdog stories, talking to ...</td>\n",
              "      <td>Talking about KKR spinner Varun Chakravarthy, ...</td>\n",
              "      <td>sports</td>\n",
              "    </tr>\n",
              "    <tr>\n",
              "      <th>1</th>\n",
              "      <td>Bolta hoon bhai: Rajasthan Royals to fan reque...</td>\n",
              "      <td>A fan took to Twitter to request Rajasthan Roy...</td>\n",
              "      <td>sports</td>\n",
              "    </tr>\n",
              "    <tr>\n",
              "      <th>2</th>\n",
              "      <td>Why are KXIP players wearing black armbands in...</td>\n",
              "      <td>Kings XI Punjab cricketers are wearing black a...</td>\n",
              "      <td>sports</td>\n",
              "    </tr>\n",
              "    <tr>\n",
              "      <th>3</th>\n",
              "      <td>IPL 2020 points table is getting interesting: ...</td>\n",
              "      <td>After KXIP took SRH's last six wickets in 13 b...</td>\n",
              "      <td>sports</td>\n",
              "    </tr>\n",
              "    <tr>\n",
              "      <th>4</th>\n",
              "      <td>How many Indian cricketers have hit 100 sixes ...</td>\n",
              "      <td>DC's Rishabh Pant today became the 14th Indian...</td>\n",
              "      <td>sports</td>\n",
              "    </tr>\n",
              "    <tr>\n",
              "      <th>5</th>\n",
              "      <td>Sandeep becomes 6th Indian pacer to take 100 I...</td>\n",
              "      <td>SRH pacer Sandeep Sharma on Saturday became th...</td>\n",
              "      <td>sports</td>\n",
              "    </tr>\n",
              "    <tr>\n",
              "      <th>6</th>\n",
              "      <td>Who is Varun Chakravarthy, ex-architect who re...</td>\n",
              "      <td>KKR spinner Varun Chakravarthy was born on Aug...</td>\n",
              "      <td>sports</td>\n",
              "    </tr>\n",
              "    <tr>\n",
              "      <th>7</th>\n",
              "      <td>Why did KKR's Rana flaunt jersey with 'Surinde...</td>\n",
              "      <td>Kolkata Knight Riders batsman Nitish Rana flau...</td>\n",
              "      <td>sports</td>\n",
              "    </tr>\n",
              "    <tr>\n",
              "      <th>8</th>\n",
              "      <td>KKR hand DC their 2nd loss in a row as Varun r...</td>\n",
              "      <td>KKR defeated DC by 59 runs in Abu Dhabi on Sat...</td>\n",
              "      <td>sports</td>\n",
              "    </tr>\n",
              "    <tr>\n",
              "      <th>9</th>\n",
              "      <td>Hats off for turning up: Sachin on Rana, Mande...</td>\n",
              "      <td>Former India batsman Sachin Tendulkar lauded K...</td>\n",
              "      <td>sports</td>\n",
              "    </tr>\n",
              "    <tr>\n",
              "      <th>10</th>\n",
              "      <td>KXIP take last 6 wickets in 13 balls to defend...</td>\n",
              "      <td>Kings XI Punjab defeated SunRisers Hyderabad b...</td>\n",
              "      <td>sports</td>\n",
              "    </tr>\n",
              "    <tr>\n",
              "      <th>11</th>\n",
              "      <td>Tanmay, who top-scored in 2008 U-19 WC which I...</td>\n",
              "      <td>Tanmay Srivastava, who top-scored in 2008 Unde...</td>\n",
              "      <td>sports</td>\n",
              "    </tr>\n",
              "    <tr>\n",
              "      <th>12</th>\n",
              "      <td>Dhoni would be a lot more hurt as youngsters l...</td>\n",
              "      <td>Talking about CSK's 10-wicket defeat against M...</td>\n",
              "      <td>sports</td>\n",
              "    </tr>\n",
              "    <tr>\n",
              "      <th>13</th>\n",
              "      <td>Padikkal hasn't got Hayden's chest but definit...</td>\n",
              "      <td>Talking about RCB batsman Devdutt Padikkal, te...</td>\n",
              "      <td>sports</td>\n",
              "    </tr>\n",
              "    <tr>\n",
              "      <th>14</th>\n",
              "      <td>CSK's Imran Tahir gives Riyan Parag leg-spin l...</td>\n",
              "      <td>After the match between CSK and RR on Monday, ...</td>\n",
              "      <td>sports</td>\n",
              "    </tr>\n",
              "    <tr>\n",
              "      <th>15</th>\n",
              "      <td>Happy to be back and performing: Narine on 64(...</td>\n",
              "      <td>KKR spinner Sunil Narine on Saturday returned ...</td>\n",
              "      <td>sports</td>\n",
              "    </tr>\n",
              "    <tr>\n",
              "      <th>16</th>\n",
              "      <td>Almost perfect performance, lucky to have Bumr...</td>\n",
              "      <td>Talking about their bowling against CSK on Fri...</td>\n",
              "      <td>sports</td>\n",
              "    </tr>\n",
              "    <tr>\n",
              "      <th>17</th>\n",
              "      <td>Finally, RCB bowling unit has earned captain V...</td>\n",
              "      <td>Former New Zealand all-rounder Scott Styris sa...</td>\n",
              "      <td>sports</td>\n",
              "    </tr>\n",
              "    <tr>\n",
              "      <th>18</th>\n",
              "      <td>Glad it's happening at this point of time: Iye...</td>\n",
              "      <td>After KKR defeated DC by 59 runs on Saturday, ...</td>\n",
              "      <td>sports</td>\n",
              "    </tr>\n",
              "    <tr>\n",
              "      <th>19</th>\n",
              "      <td>Gave Bumrah the new ball to counter Rayudu: MI...</td>\n",
              "      <td>MI's stand-in-captain Kieron Pollard said he m...</td>\n",
              "      <td>sports</td>\n",
              "    </tr>\n",
              "    <tr>\n",
              "      <th>20</th>\n",
              "      <td>Want to ensure India-China standoff doesn't es...</td>\n",
              "      <td>Trump administration officials said the US is ...</td>\n",
              "      <td>world</td>\n",
              "    </tr>\n",
              "    <tr>\n",
              "      <th>21</th>\n",
              "      <td>It's not how you talk about friends: Biden on ...</td>\n",
              "      <td>After US President Donald Trump said, \"Look at...</td>\n",
              "      <td>world</td>\n",
              "    </tr>\n",
              "    <tr>\n",
              "      <th>22</th>\n",
              "      <td>Nepal PM uses old map without Indian territory...</td>\n",
              "      <td>As India and Nepal try to mend ties after the ...</td>\n",
              "      <td>world</td>\n",
              "    </tr>\n",
              "    <tr>\n",
              "      <th>23</th>\n",
              "      <td>Monitoring Ladakh standoff, sharing info with ...</td>\n",
              "      <td>The United States is monitoring the India-Chin...</td>\n",
              "      <td>world</td>\n",
              "    </tr>\n",
              "    <tr>\n",
              "      <th>24</th>\n",
              "      <td>I voted for a guy named Trump: US Prez Trump c...</td>\n",
              "      <td>US President Donald Trump has cast his ballot ...</td>\n",
              "      <td>world</td>\n",
              "    </tr>\n",
              "    <tr>\n",
              "      <th>25</th>\n",
              "      <td>Just hair, bones: Officials as 7 decomposed bo...</td>\n",
              "      <td>Paraguay authorities have found at least seven...</td>\n",
              "      <td>world</td>\n",
              "    </tr>\n",
              "    <tr>\n",
              "      <th>26</th>\n",
              "      <td>US warns of Listeria outbreak linked to deli m...</td>\n",
              "      <td>US' health protection agency CDC has warned ab...</td>\n",
              "      <td>world</td>\n",
              "    </tr>\n",
              "    <tr>\n",
              "      <th>27</th>\n",
              "      <td>Pakistani man born without arms masters playin...</td>\n",
              "      <td>A 32-year-old Pakistani man, Muhammad Ikram, w...</td>\n",
              "      <td>world</td>\n",
              "    </tr>\n",
              "    <tr>\n",
              "      <th>28</th>\n",
              "      <td>What is yellow dust, which North Korea warned ...</td>\n",
              "      <td>North Korea warned its citizens to remain indo...</td>\n",
              "      <td>world</td>\n",
              "    </tr>\n",
              "    <tr>\n",
              "      <th>29</th>\n",
              "      <td>In many ways it's good, in many ways foolish: ...</td>\n",
              "      <td>During a rally in North Carolina on Saturday, ...</td>\n",
              "      <td>world</td>\n",
              "    </tr>\n",
              "    <tr>\n",
              "      <th>30</th>\n",
              "      <td>Senior al-Qaeda leader al-Masri who was on FBI...</td>\n",
              "      <td>Afghanistan's National Directorate of Security...</td>\n",
              "      <td>world</td>\n",
              "    </tr>\n",
              "    <tr>\n",
              "      <th>31</th>\n",
              "      <td>Trump's dangerous rhetoric fuelled hate crimes...</td>\n",
              "      <td>In an op-ed for India West, Democratic Preside...</td>\n",
              "      <td>world</td>\n",
              "    </tr>\n",
              "    <tr>\n",
              "      <th>32</th>\n",
              "      <td>State institute imports COVID-19 vaccine rejec...</td>\n",
              "      <td>A day after Brazilian President Jair Bolsonaro...</td>\n",
              "      <td>world</td>\n",
              "    </tr>\n",
              "    <tr>\n",
              "      <th>33</th>\n",
              "      <td>US reports its biggest rise in daily COVID-19 ...</td>\n",
              "      <td>The US has recorded its biggest one-day rise i...</td>\n",
              "      <td>world</td>\n",
              "    </tr>\n",
              "    <tr>\n",
              "      <th>34</th>\n",
              "      <td>Asia becomes 2nd region in world to cross 1 cr...</td>\n",
              "      <td>Asia became the second region in the world to ...</td>\n",
              "      <td>world</td>\n",
              "    </tr>\n",
              "    <tr>\n",
              "      <th>35</th>\n",
              "      <td>Poland President Andrzej Duda tests positive f...</td>\n",
              "      <td>Polish President Andrzej Duda has tested posit...</td>\n",
              "      <td>world</td>\n",
              "    </tr>\n",
              "    <tr>\n",
              "      <th>36</th>\n",
              "      <td>We may not recognise HK residents' British ove...</td>\n",
              "      <td>China said that it may not recognise British-i...</td>\n",
              "      <td>world</td>\n",
              "    </tr>\n",
              "    <tr>\n",
              "      <th>37</th>\n",
              "      <td>Release of Fukushima's water into sea can dama...</td>\n",
              "      <td>The release of Fukushima nuclear plant's conta...</td>\n",
              "      <td>world</td>\n",
              "    </tr>\n",
              "    <tr>\n",
              "      <th>38</th>\n",
              "      <td>Will talk to UK PM to get Nawaz Sharif deporte...</td>\n",
              "      <td>Pakistan PM Imran Khan said that his governmen...</td>\n",
              "      <td>world</td>\n",
              "    </tr>\n",
              "    <tr>\n",
              "      <th>39</th>\n",
              "      <td>No justification for Uighur concentration camp...</td>\n",
              "      <td>Talking about China's treatment of Uighur Musl...</td>\n",
              "      <td>world</td>\n",
              "    </tr>\n",
              "    <tr>\n",
              "      <th>40</th>\n",
              "      <td>Former Maharashtra CM Devendra Fadnavis tests ...</td>\n",
              "      <td>BJP leader and former Maharashtra CM Devendra ...</td>\n",
              "      <td>politics</td>\n",
              "    </tr>\n",
              "    <tr>\n",
              "      <th>41</th>\n",
              "      <td>Farooq to be Prez, Mufti Vice-Prez of People's...</td>\n",
              "      <td>National Conference leader Farooq Abdullah wil...</td>\n",
              "      <td>politics</td>\n",
              "    </tr>\n",
              "    <tr>\n",
              "      <th>42</th>\n",
              "      <td>Janta Dal Rashtravadi Party's candidate shot d...</td>\n",
              "      <td>Narayan Singh, Janta Dal Rashtravadi Party's c...</td>\n",
              "      <td>politics</td>\n",
              "    </tr>\n",
              "    <tr>\n",
              "      <th>43</th>\n",
              "      <td>If you have ED, I have CD: Eknath Khadse after...</td>\n",
              "      <td>After quitting Bharatiya Janata Party (BJP) to...</td>\n",
              "      <td>politics</td>\n",
              "    </tr>\n",
              "    <tr>\n",
              "      <th>44</th>\n",
              "      <td>President Kovind, Prime Minister Modi greet na...</td>\n",
              "      <td>President Ram Nath Kovind and PM Narendra Modi...</td>\n",
              "      <td>politics</td>\n",
              "    </tr>\n",
              "    <tr>\n",
              "      <th>45</th>\n",
              "      <td>J&amp;K leaders sometimes more dangerous than sepa...</td>\n",
              "      <td>Union Minister of State (MoS) Jitendra Singh c...</td>\n",
              "      <td>politics</td>\n",
              "    </tr>\n",
              "    <tr>\n",
              "      <th>46</th>\n",
              "      <td>Conspiracies of 'Gupkar gang' will not be tole...</td>\n",
              "      <td>J&amp;K BJP chief Ravinder Raina on Saturday said ...</td>\n",
              "      <td>politics</td>\n",
              "    </tr>\n",
              "    <tr>\n",
              "      <th>47</th>\n",
              "      <td>Those who promoted jungle raj are talking of d...</td>\n",
              "      <td>Bihar CM Nitish Kumar on Saturday, in an appar...</td>\n",
              "      <td>politics</td>\n",
              "    </tr>\n",
              "    <tr>\n",
              "      <th>48</th>\n",
              "      <td>We have to light a lamp at home in honour of s...</td>\n",
              "      <td>Prime Minister Narendra Modi on Sunday address...</td>\n",
              "      <td>politics</td>\n",
              "    </tr>\n",
              "    <tr>\n",
              "      <th>49</th>\n",
              "      <td>Include sanitation workers, domestic helps, gu...</td>\n",
              "      <td>Prime Minister Narendra Modi addressed the nat...</td>\n",
              "      <td>politics</td>\n",
              "    </tr>\n",
              "    <tr>\n",
              "      <th>50</th>\n",
              "      <td>Why no Hathras-like picnic over Punjab rape: S...</td>\n",
              "      <td>Union Finance Minister Nirmala Sitharaman on S...</td>\n",
              "      <td>politics</td>\n",
              "    </tr>\n",
              "    <tr>\n",
              "      <th>51</th>\n",
              "      <td>None of the Gandhis visited rape victim's fami...</td>\n",
              "      <td>After the half-burnt body of a six-year-old gi...</td>\n",
              "      <td>politics</td>\n",
              "    </tr>\n",
              "    <tr>\n",
              "      <th>52</th>\n",
              "      <td>PM Modi pays tribute to former PM Indira Gandh...</td>\n",
              "      <td>Prime Minister Narendra Modi on Sunday remembe...</td>\n",
              "      <td>politics</td>\n",
              "    </tr>\n",
              "    <tr>\n",
              "      <th>53</th>\n",
              "      <td>Mufti must be arrested for seditious remarks o...</td>\n",
              "      <td>The J&amp;K BJP has criticised former CM Mehbooba ...</td>\n",
              "      <td>politics</td>\n",
              "    </tr>\n",
              "    <tr>\n",
              "      <th>54</th>\n",
              "      <td>Rajnath Singh performs 'Shastra Puja' with Ind...</td>\n",
              "      <td>Defence Minister Rajnath Singh on Sunday perfo...</td>\n",
              "      <td>politics</td>\n",
              "    </tr>\n",
              "    <tr>\n",
              "      <th>55</th>\n",
              "      <td>COVID-19 vaccine should be free throughout the...</td>\n",
              "      <td>Delhi CM Arvind Kejriwal on Saturday said the ...</td>\n",
              "      <td>politics</td>\n",
              "    </tr>\n",
              "    <tr>\n",
              "      <th>56</th>\n",
              "      <td>Make COVID-19 vaccine free in K'taka too: Sidd...</td>\n",
              "      <td>Opposition leader Siddaramaiah said that the K...</td>\n",
              "      <td>politics</td>\n",
              "    </tr>\n",
              "    <tr>\n",
              "      <th>57</th>\n",
              "      <td>Delhi CM Kejriwal inaugurates flyovers at Seel...</td>\n",
              "      <td>Delhi CM Arvind Kejriwal on Saturday inaugurat...</td>\n",
              "      <td>politics</td>\n",
              "    </tr>\n",
              "    <tr>\n",
              "      <th>58</th>\n",
              "      <td>Delhi court issues bailable warrant against Ka...</td>\n",
              "      <td>A Delhi court has issued a bailable warrant ag...</td>\n",
              "      <td>politics</td>\n",
              "    </tr>\n",
              "    <tr>\n",
              "      <th>59</th>\n",
              "      <td>Lalu ji to be released on Nov 9, Nitish's fare...</td>\n",
              "      <td>Rashtriya Janata Dal (RJD) leader Tejashwi Yad...</td>\n",
              "      <td>politics</td>\n",
              "    </tr>\n",
              "  </tbody>\n",
              "</table>\n",
              "</div>\n",
              "      <button class=\"colab-df-convert\" onclick=\"convertToInteractive('df-1deae1b7-63e4-43b9-8e02-d606851d49b5')\"\n",
              "              title=\"Convert this dataframe to an interactive table.\"\n",
              "              style=\"display:none;\">\n",
              "        \n",
              "  <svg xmlns=\"http://www.w3.org/2000/svg\" height=\"24px\"viewBox=\"0 0 24 24\"\n",
              "       width=\"24px\">\n",
              "    <path d=\"M0 0h24v24H0V0z\" fill=\"none\"/>\n",
              "    <path d=\"M18.56 5.44l.94 2.06.94-2.06 2.06-.94-2.06-.94-.94-2.06-.94 2.06-2.06.94zm-11 1L8.5 8.5l.94-2.06 2.06-.94-2.06-.94L8.5 2.5l-.94 2.06-2.06.94zm10 10l.94 2.06.94-2.06 2.06-.94-2.06-.94-.94-2.06-.94 2.06-2.06.94z\"/><path d=\"M17.41 7.96l-1.37-1.37c-.4-.4-.92-.59-1.43-.59-.52 0-1.04.2-1.43.59L10.3 9.45l-7.72 7.72c-.78.78-.78 2.05 0 2.83L4 21.41c.39.39.9.59 1.41.59.51 0 1.02-.2 1.41-.59l7.78-7.78 2.81-2.81c.8-.78.8-2.07 0-2.86zM5.41 20L4 18.59l7.72-7.72 1.47 1.35L5.41 20z\"/>\n",
              "  </svg>\n",
              "      </button>\n",
              "      \n",
              "  <style>\n",
              "    .colab-df-container {\n",
              "      display:flex;\n",
              "      flex-wrap:wrap;\n",
              "      gap: 12px;\n",
              "    }\n",
              "\n",
              "    .colab-df-convert {\n",
              "      background-color: #E8F0FE;\n",
              "      border: none;\n",
              "      border-radius: 50%;\n",
              "      cursor: pointer;\n",
              "      display: none;\n",
              "      fill: #1967D2;\n",
              "      height: 32px;\n",
              "      padding: 0 0 0 0;\n",
              "      width: 32px;\n",
              "    }\n",
              "\n",
              "    .colab-df-convert:hover {\n",
              "      background-color: #E2EBFA;\n",
              "      box-shadow: 0px 1px 2px rgba(60, 64, 67, 0.3), 0px 1px 3px 1px rgba(60, 64, 67, 0.15);\n",
              "      fill: #174EA6;\n",
              "    }\n",
              "\n",
              "    [theme=dark] .colab-df-convert {\n",
              "      background-color: #3B4455;\n",
              "      fill: #D2E3FC;\n",
              "    }\n",
              "\n",
              "    [theme=dark] .colab-df-convert:hover {\n",
              "      background-color: #434B5C;\n",
              "      box-shadow: 0px 1px 3px 1px rgba(0, 0, 0, 0.15);\n",
              "      filter: drop-shadow(0px 1px 2px rgba(0, 0, 0, 0.3));\n",
              "      fill: #FFFFFF;\n",
              "    }\n",
              "  </style>\n",
              "\n",
              "      <script>\n",
              "        const buttonEl =\n",
              "          document.querySelector('#df-1deae1b7-63e4-43b9-8e02-d606851d49b5 button.colab-df-convert');\n",
              "        buttonEl.style.display =\n",
              "          google.colab.kernel.accessAllowed ? 'block' : 'none';\n",
              "\n",
              "        async function convertToInteractive(key) {\n",
              "          const element = document.querySelector('#df-1deae1b7-63e4-43b9-8e02-d606851d49b5');\n",
              "          const dataTable =\n",
              "            await google.colab.kernel.invokeFunction('convertToInteractive',\n",
              "                                                     [key], {});\n",
              "          if (!dataTable) return;\n",
              "\n",
              "          const docLinkHtml = 'Like what you see? Visit the ' +\n",
              "            '<a target=\"_blank\" href=https://colab.research.google.com/notebooks/data_table.ipynb>data table notebook</a>'\n",
              "            + ' to learn more about interactive tables.';\n",
              "          element.innerHTML = '';\n",
              "          dataTable['output_type'] = 'display_data';\n",
              "          await google.colab.output.renderOutput(dataTable, element);\n",
              "          const docLink = document.createElement('div');\n",
              "          docLink.innerHTML = docLinkHtml;\n",
              "          element.appendChild(docLink);\n",
              "        }\n",
              "      </script>\n",
              "    </div>\n",
              "  </div>\n",
              "  "
            ]
          },
          "metadata": {},
          "execution_count": 2
        }
      ],
      "source": [
        "import pandas as pd\n",
        "df =pd.read_csv('https://raw.githubusercontent.com/diazoniclabs/Machine-Learning-using-sklearn/master/Datasets/news.csv')\n",
        "df"
      ]
    },
    {
      "cell_type": "code",
      "source": [
        "df.info()"
      ],
      "metadata": {
        "colab": {
          "base_uri": "https://localhost:8080/"
        },
        "id": "aL7Lpimr96mm",
        "outputId": "49007d96-ac62-4f83-ff1c-655a6d67a062"
      },
      "execution_count": null,
      "outputs": [
        {
          "output_type": "stream",
          "name": "stdout",
          "text": [
            "<class 'pandas.core.frame.DataFrame'>\n",
            "RangeIndex: 60 entries, 0 to 59\n",
            "Data columns (total 3 columns):\n",
            " #   Column         Non-Null Count  Dtype \n",
            "---  ------         --------------  ----- \n",
            " 0   news_headline  60 non-null     object\n",
            " 1   news_article   60 non-null     object\n",
            " 2   news_category  60 non-null     object\n",
            "dtypes: object(3)\n",
            "memory usage: 1.5+ KB\n"
          ]
        }
      ]
    },
    {
      "cell_type": "code",
      "source": [
        "df.shape"
      ],
      "metadata": {
        "colab": {
          "base_uri": "https://localhost:8080/"
        },
        "id": "jiRIGH1H-Z82",
        "outputId": "73cd1223-293c-435b-d54d-af542fc92a90"
      },
      "execution_count": null,
      "outputs": [
        {
          "output_type": "execute_result",
          "data": {
            "text/plain": [
              "(60, 3)"
            ]
          },
          "metadata": {},
          "execution_count": 5
        }
      ]
    },
    {
      "cell_type": "code",
      "source": [
        "df.size"
      ],
      "metadata": {
        "colab": {
          "base_uri": "https://localhost:8080/"
        },
        "id": "oUYQwTYZ-g_w",
        "outputId": "0630d293-ac64-455f-d23f-198ab00e9327"
      },
      "execution_count": null,
      "outputs": [
        {
          "output_type": "execute_result",
          "data": {
            "text/plain": [
              "180"
            ]
          },
          "metadata": {},
          "execution_count": 6
        }
      ]
    },
    {
      "cell_type": "code",
      "source": [
        "df['news_category'].value_counts()"
      ],
      "metadata": {
        "colab": {
          "base_uri": "https://localhost:8080/"
        },
        "id": "uUGQfuFw-pAz",
        "outputId": "3b55ccaa-1014-4eb5-8a36-75d85a7caaae"
      },
      "execution_count": null,
      "outputs": [
        {
          "output_type": "execute_result",
          "data": {
            "text/plain": [
              "sports      20\n",
              "world       20\n",
              "politics    20\n",
              "Name: news_category, dtype: int64"
            ]
          },
          "metadata": {},
          "execution_count": 7
        }
      ]
    },
    {
      "cell_type": "code",
      "source": [
        "df['news_category'].value_counts().plot(kind = 'bar')"
      ],
      "metadata": {
        "colab": {
          "base_uri": "https://localhost:8080/",
          "height": 309
        },
        "id": "nzN7PU4h_F7e",
        "outputId": "79e25500-7b3b-4f95-aa21-0d100e60a47d"
      },
      "execution_count": null,
      "outputs": [
        {
          "output_type": "execute_result",
          "data": {
            "text/plain": [
              "<matplotlib.axes._subplots.AxesSubplot at 0x7ff6bac35f90>"
            ]
          },
          "metadata": {},
          "execution_count": 9
        },
        {
          "output_type": "display_data",
          "data": {
            "text/plain": [
              "<Figure size 432x288 with 1 Axes>"
            ],
            "image/png": "[encoded data removed]"
          },
          "metadata": {
            "needs_background": "light"
          }
        }
      ]
    },
    {
      "cell_type": "code",
      "source": [
        "x = df.iloc[:,0].values\n",
        "y = df.iloc[:,2].values\n",
        "print(x)\n",
        "print(y)"
      ],
      "metadata": {
        "colab": {
          "base_uri": "https://localhost:8080/"
        },
        "id": "YuUD2d31AJti",
        "outputId": "aa9c0cd9-314f-4d31-ffc2-a83ce259e335"
      },
      "execution_count": null,
      "outputs": [
        {
          "output_type": "stream",
          "name": "stdout",
          "text": [
            "[\"I'm a sucker for underdog stories, talking to Varun a priceless moment: Harsha \"\n",
            " 'Bolta hoon bhai: Rajasthan Royals to fan requesting Stokes to hit 1st six in IPL 2020'\n",
            " 'Why are KXIP players wearing black armbands in their match against SRH today?'\n",
            " \"IPL 2020 points table is getting interesting: Yuvraj after KXIP's win over SRH\"\n",
            " 'How many Indian cricketers have hit 100 sixes in IPL history?'\n",
            " 'Sandeep becomes 6th Indian pacer to take 100 IPL wickets'\n",
            " 'Who is Varun Chakravarthy, ex-architect who recorded best bowling figures of IPL 2020?'\n",
            " \"Why did KKR's Rana flaunt jersey with 'Surinder' written on it after hitting 50 vs DC?\"\n",
            " 'KKR hand DC their 2nd loss in a row as Varun records best bowling figures of IPL 2020'\n",
            " 'Hats off for turning up: Sachin on Rana, Mandeep playing on Sat despite tragedies'\n",
            " 'KXIP take last 6 wickets in 13 balls to defend 126-run total vs SRH'\n",
            " 'Tanmay, who top-scored in 2008 U-19 WC which India won under Kohli, retires at 30'\n",
            " 'Dhoni would be a lot more hurt as youngsters let him down: Sehwag'\n",
            " \"Padikkal hasn't got Hayden's chest but definitely similar technique: Morris\"\n",
            " \"CSK's Imran Tahir gives Riyan Parag leg-spin lessons\"\n",
            " 'Happy to be back and performing: Narine on 64(32) after missing 4 matches'\n",
            " 'Almost perfect performance, lucky to have Bumrah, Boult: MI bowling coach Bond'\n",
            " \"Finally, RCB bowling unit has earned captain Virat Kohli's trust: Styris\"\n",
            " \"Glad it's happening at this point of time: Iyer after DC's 2nd loss in a row\"\n",
            " 'Gave Bumrah the new ball to counter Rayudu: MI stand-in-captain Pollard'\n",
            " \"Want to ensure India-China standoff doesn't escalate, says US\"\n",
            " \"It's not how you talk about friends: Biden on Trump calling India 'filthy'\"\n",
            " 'Nepal PM uses old map without Indian territory in Dussehra greeting card'\n",
            " 'Monitoring Ladakh standoff, sharing info with India: US officials'\n",
            " 'I voted for a guy named Trump: US Prez Trump casts ballot ahead of Nov 3 poll'\n",
            " 'Just hair, bones: Officials as 7 decomposed bodies found in Paraguay'\n",
            " 'US warns of Listeria outbreak linked to deli meats after 10 people infected'\n",
            " 'Pakistani man born without arms masters playing snooker with chin'\n",
            " 'What is yellow dust, which North Korea warned could carry COVID-19?'\n",
            " \"In many ways it's good, in many ways foolish: Trump on COVID-19 testing\"\n",
            " \"Senior al-Qaeda leader al-Masri who was on FBI's most wanted list killed\"\n",
            " \"Trump's dangerous rhetoric fuelled hate crimes against Indian-Americans: Biden\"\n",
            " 'State institute imports COVID-19 vaccine rejected by Brazil Prez'\n",
            " 'US reports its biggest rise in daily COVID-19 cases at 84,218'\n",
            " 'Asia becomes 2nd region in world to cross 1 crore COVID-19 cases'\n",
            " 'Poland President Andrzej Duda tests positive for COVID-19'\n",
            " \"We may not recognise HK residents' British overseas passports: China\"\n",
            " \"Release of Fukushima's water into sea can damage human DNA: Greenpeace\"\n",
            " 'Will talk to UK PM to get Nawaz Sharif deported if I have to: Pak PM'\n",
            " 'No justification for Uighur concentration camps in China: US'\n",
            " 'Former Maharashtra CM Devendra Fadnavis tests COVID-19 positive'\n",
            " \"Farooq to be Prez, Mufti Vice-Prez of People's Alliance for Gupkar Declaration\"\n",
            " \"Janta Dal Rashtravadi Party's candidate shot dead in Bihar ahead of polls\"\n",
            " 'If you have ED, I have CD: Eknath Khadse after joining NCP from BJP'\n",
            " 'President Kovind, Prime Minister Modi greet nation on Dussehra'\n",
            " 'J&K leaders sometimes more dangerous than separatists: MoS on Mufti'\n",
            " \"Conspiracies of 'Gupkar gang' will not be tolerated: J&K BJP chief\"\n",
            " 'Those who promoted jungle raj are talking of development: Nitish on RJD'\n",
            " 'We have to light a lamp at home in honour of soldiers at borders: PM'\n",
            " 'Include sanitation workers, domestic helps, guards in festivals: PM'\n",
            " 'Why no Hathras-like picnic over Punjab rape: Sitharaman on Rahul, Priyanka'\n",
            " \"None of the Gandhis visited rape victim's family in Punjab: Javadekar\"\n",
            " \"PM Modi pays tribute to former PM Indira Gandhi on 'Mann ki Baat'\"\n",
            " 'Mufti must be arrested for seditious remarks on tricolour flag: J&K BJP'\n",
            " \"Rajnath Singh performs 'Shastra Puja' with Indian Army in Sikkim\"\n",
            " 'COVID-19 vaccine should be free throughout the country: Delhi CM'\n",
            " \"Make COVID-19 vaccine free in K'taka too: Siddaramaiah to Centre\"\n",
            " 'Delhi CM Kejriwal inaugurates flyovers at Seelampur, Shastri Park'\n",
            " 'Delhi court issues bailable warrant against Kapil Mishra'\n",
            " \"Lalu ji to be released on Nov 9, Nitish's farewell next day: Tejashwi\"]\n",
            "['sports' 'sports' 'sports' 'sports' 'sports' 'sports' 'sports' 'sports'\n",
            " 'sports' 'sports' 'sports' 'sports' 'sports' 'sports' 'sports' 'sports'\n",
            " 'sports' 'sports' 'sports' 'sports' 'world' 'world' 'world' 'world'\n",
            " 'world' 'world' 'world' 'world' 'world' 'world' 'world' 'world' 'world'\n",
            " 'world' 'world' 'world' 'world' 'world' 'world' 'world' 'politics'\n",
            " 'politics' 'politics' 'politics' 'politics' 'politics' 'politics'\n",
            " 'politics' 'politics' 'politics' 'politics' 'politics' 'politics'\n",
            " 'politics' 'politics' 'politics' 'politics' 'politics' 'politics'\n",
            " 'politics']\n"
          ]
        }
      ]
    },
    {
      "cell_type": "code",
      "source": [
        "from sklearn.model_selection import train_test_split\n",
        "x_train,x_test,y_train,y_test = train_test_split(x,y,random_state = 0)\n"
      ],
      "metadata": {
        "id": "CTGpGf4JA39N"
      },
      "execution_count": null,
      "outputs": []
    },
    {
      "cell_type": "code",
      "source": [
        "from sklearn.feature_extraction.text import TfidfVectorizer\n",
        "vect = TfidfVectorizer()\n",
        "x_train_v = vect.fit_transform(x_train)\n",
        "x_test_v = vect.transform(x_test)"
      ],
      "metadata": {
        "id": "aM6uYnwyBeKQ"
      },
      "execution_count": null,
      "outputs": []
    },
    {
      "cell_type": "code",
      "source": [
        "from sklearn.svm import SVC\n",
        "model = SVC()"
      ],
      "metadata": {
        "id": "NiJRrbHsCaDv"
      },
      "execution_count": null,
      "outputs": []
    },
    {
      "cell_type": "code",
      "source": [
        "model.fit(x_train_v,y_train)"
      ],
      "metadata": {
        "colab": {
          "base_uri": "https://localhost:8080/"
        },
        "id": "1fcud4BXCq7g",
        "outputId": "2bdd7bc8-84f6-4d52-9256-bd6d50aa4997"
      },
      "execution_count": null,
      "outputs": [
        {
          "output_type": "execute_result",
          "data": {
            "text/plain": [
              "SVC()"
            ]
          },
          "metadata": {},
          "execution_count": 14
        }
      ]
    },
    {
      "cell_type": "code",
      "source": [
        "y_pred = model.predict(x_test_v)\n",
        "y_pred"
      ],
      "metadata": {
        "colab": {
          "base_uri": "https://localhost:8080/"
        },
        "id": "-lIyvNYzDWjY",
        "outputId": "d27ce42c-334e-48a1-d184-83d4e79345cb"
      },
      "execution_count": null,
      "outputs": [
        {
          "output_type": "execute_result",
          "data": {
            "text/plain": [
              "array(['sports', 'politics', 'politics', 'politics', 'politics',\n",
              "       'politics', 'politics', 'politics', 'politics', 'politics',\n",
              "       'sports', 'sports', 'politics', 'politics', 'politics'],\n",
              "      dtype=object)"
            ]
          },
          "metadata": {},
          "execution_count": 15
        }
      ]
    },
    {
      "cell_type": "code",
      "source": [
        "y_test"
      ],
      "metadata": {
        "colab": {
          "base_uri": "https://localhost:8080/"
        },
        "id": "GvZf018WDiGi",
        "outputId": "aaba23c5-5ac1-4102-f551-848fb392a4a4"
      },
      "execution_count": null,
      "outputs": [
        {
          "output_type": "execute_result",
          "data": {
            "text/plain": [
              "array(['world', 'world', 'politics', 'world', 'sports', 'sports', 'world',\n",
              "       'politics', 'politics', 'world', 'sports', 'sports', 'world',\n",
              "       'politics', 'world'], dtype=object)"
            ]
          },
          "metadata": {},
          "execution_count": 16
        }
      ]
    },
    {
      "cell_type": "code",
      "source": [
        "from sklearn.metrics import accuracy_score\n",
        "accuracy_score(y_pred,y_test)*100\n"
      ],
      "metadata": {
        "colab": {
          "base_uri": "https://localhost:8080/"
        },
        "id": "MYIDs_JdDs6H",
        "outputId": "501f3e96-81f4-4939-fb2b-0953624b0f91"
      },
      "execution_count": null,
      "outputs": [
        {
          "output_type": "execute_result",
          "data": {
            "text/plain": [
              "40.0"
            ]
          },
          "metadata": {},
          "execution_count": 19
        }
      ]
    },
    {
      "cell_type": "code",
      "source": [
        "a = df['news_headline'][20]\n",
        "a"
      ],
      "metadata": {
        "colab": {
          "base_uri": "https://localhost:8080/",
          "height": 36
        },
        "id": "FR1vaY46ETr6",
        "outputId": "749d6edd-fbaa-4917-dd69-9a558cb01f5f"
      },
      "execution_count": null,
      "outputs": [
        {
          "output_type": "execute_result",
          "data": {
            "text/plain": [
              "\"Want to ensure India-China standoff doesn't escalate, says US\""
            ],
            "application/vnd.google.colaboratory.intrinsic+json": {
              "type": "string"
            }
          },
          "metadata": {},
          "execution_count": 25
        }
      ]
    },
    {
      "cell_type": "code",
      "source": [
        "a = vect.transform([a])\n",
        "model.predict(a)"
      ],
      "metadata": {
        "colab": {
          "base_uri": "https://localhost:8080/"
        },
        "id": "7xehqSd0E_1T",
        "outputId": "f0f33f25-1227-429d-f37a-29653f4f6a33"
      },
      "execution_count": null,
      "outputs": [
        {
          "output_type": "execute_result",
          "data": {
            "text/plain": [
              "array(['world'], dtype=object)"
            ]
          },
          "metadata": {},
          "execution_count": 26
        }
      ]
    },
    {
      "cell_type": "code",
      "source": [
        "c = 'Dhoni is the captain of CSK'\n",
        "c\n",
        "c = vect.transform([c])\n",
        "model.predict(c)"
      ],
      "metadata": {
        "colab": {
          "base_uri": "https://localhost:8080/"
        },
        "id": "cmCSZ1NxFSwz",
        "outputId": "14501cfe-767d-4104-95b4-c54844ca79f5"
      },
      "execution_count": null,
      "outputs": [
        {
          "output_type": "execute_result",
          "data": {
            "text/plain": [
              "array(['sports'], dtype=object)"
            ]
          },
          "metadata": {},
          "execution_count": 27
        }
      ]
    },
    {
      "cell_type": "code",
      "source": [
        "from sklearn.pipeline import make_pipeline\n",
        "text_model = make_pipeline(TfidfVectorizer(),SVC())\n",
        "text_model.fit(x_train,y_train)"
      ],
      "metadata": {
        "colab": {
          "base_uri": "https://localhost:8080/"
        },
        "id": "Ts5PxokZH4QO",
        "outputId": "a1cb475c-3024-424f-eb45-1145514749ce"
      },
      "execution_count": null,
      "outputs": [
        {
          "output_type": "execute_result",
          "data": {
            "text/plain": [
              "Pipeline(steps=[('tfidfvectorizer', TfidfVectorizer()), ('svc', SVC())])"
            ]
          },
          "metadata": {},
          "execution_count": 28
        }
      ]
    },
    {
      "cell_type": "code",
      "source": [
        "y_pred1 = text_model.predict(x_test)\n",
        "y_pred1"
      ],
      "metadata": {
        "colab": {
          "base_uri": "https://localhost:8080/"
        },
        "id": "c-ze_75mVfV-",
        "outputId": "3b5bb63d-56f0-4650-d3b7-9a93b174b87b"
      },
      "execution_count": null,
      "outputs": [
        {
          "output_type": "execute_result",
          "data": {
            "text/plain": [
              "array(['sports', 'politics', 'politics', 'politics', 'politics',\n",
              "       'politics', 'politics', 'politics', 'politics', 'politics',\n",
              "       'sports', 'sports', 'politics', 'politics', 'politics'],\n",
              "      dtype=object)"
            ]
          },
          "metadata": {},
          "execution_count": 29
        }
      ]
    },
    {
      "cell_type": "code",
      "source": [
        "y_test"
      ],
      "metadata": {
        "colab": {
          "base_uri": "https://localhost:8080/"
        },
        "id": "W8Ke6gE_VynI",
        "outputId": "0aa9532b-981a-43db-92ca-935b18a2dde2"
      },
      "execution_count": null,
      "outputs": [
        {
          "output_type": "execute_result",
          "data": {
            "text/plain": [
              "array(['world', 'world', 'politics', 'world', 'sports', 'sports', 'world',\n",
              "       'politics', 'politics', 'world', 'sports', 'sports', 'world',\n",
              "       'politics', 'world'], dtype=object)"
            ]
          },
          "metadata": {},
          "execution_count": 30
        }
      ]
    },
    {
      "cell_type": "code",
      "source": [
        "accuracy_score(y_pred1,y_test)*100"
      ],
      "metadata": {
        "colab": {
          "base_uri": "https://localhost:8080/"
        },
        "id": "Jyii8xioV4dC",
        "outputId": "d8cd3c7a-33a0-45f7-ce5d-f2f5caf628ca"
      },
      "execution_count": null,
      "outputs": [
        {
          "output_type": "execute_result",
          "data": {
            "text/plain": [
              "40.0"
            ]
          },
          "metadata": {},
          "execution_count": 31
        }
      ]
    },
    {
      "cell_type": "code",
      "source": [
        "a1 = df['news_headline'][2]\n",
        "a1\n",
        "text_model.predict([a1])\n"
      ],
      "metadata": {
        "colab": {
          "base_uri": "https://localhost:8080/"
        },
        "id": "K8pJzKXVWGni",
        "outputId": "1ce19e7d-3807-482c-d1ea-f012398cde76"
      },
      "execution_count": null,
      "outputs": [
        {
          "output_type": "execute_result",
          "data": {
            "text/plain": [
              "array(['politics'], dtype=object)"
            ]
          },
          "metadata": {},
          "execution_count": 33
        }
      ]
    },
    {
      "cell_type": "code",
      "source": [
        "import joblib\n",
        "joblib.dump(text_model,'NEWS-CATEGORY')"
      ],
      "metadata": {
        "colab": {
          "base_uri": "https://localhost:8080/"
        },
        "id": "Z5jZu64uWVE1",
        "outputId": "7d09dfc0-8524-40a3-b3c7-e4616fdfadb2"
      },
      "execution_count": null,
      "outputs": [
        {
          "output_type": "execute_result",
          "data": {
            "text/plain": [
              "['NEWS-CATEGORY']"
            ]
          },
          "metadata": {},
          "execution_count": 34
        }
      ]
    }
  ]
}