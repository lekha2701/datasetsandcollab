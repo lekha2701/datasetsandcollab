{
  "nbformat": 4,
  "nbformat_minor": 0,
  "metadata": {
    "colab": {
      "provenance": [],
      "authorship_tag": "ABX9TyNAu0MRa9Ruc8DskeUQnHjc",
      "include_colab_link": true
    },
    "kernelspec": {
      "name": "python3",
      "display_name": "Python 3"
    },
    "language_info": {
      "name": "python"
    }
  },
  "cells": [
    {
      "cell_type": "markdown",
      "metadata": {
        "id": "view-in-github",
        "colab_type": "text"
      },
      "source": [
        "<a href=\"https://colab.research.google.com/github/lekha2701/datasetsandcollab/blob/main/Untitled9.ipynb\" target=\"_parent\"><img src=\"https://colab.research.google.com/assets/colab-badge.svg\" alt=\"Open In Colab\"/></a>"
      ]
    },
    {
      "cell_type": "code",
      "execution_count": null,
      "metadata": {
        "colab": {
          "base_uri": "https://localhost:8080/",
          "height": 488
        },
        "id": "OCOIhH-TcF1O",
        "outputId": "b38afe35-dfb3-4086-cb4d-84c6b1ecb370"
      },
      "outputs": [
        {
          "output_type": "execute_result",
          "data": {
            "text/plain": [
              "    Country_Name  Year  Population  Deaths_All_Types  Deaths_Suicides  \\\n",
              "0        Armenia  2006   3219235.0             54404               78   \n",
              "1        Armenia  2007   3107395.5             53660                0   \n",
              "2        Armenia  2008   3234031.0             54824               63   \n",
              "3        Armenia  2009   3066044.0             55120               53   \n",
              "4        Armenia  2012   3024127.0             55200               79   \n",
              "..           ...   ...         ...               ...              ...   \n",
              "526   Uzbekistan  2015  31298929.0            304070             2392   \n",
              "527   Uzbekistan  2016  31847898.0            309582             2467   \n",
              "528   Uzbekistan  2017  32388561.0            321446             2417   \n",
              "529   Uzbekistan  2018  32956099.0            309826             2278   \n",
              "530   Uzbekistan  2019  33580390.0            309138             2318   \n",
              "\n",
              "     HExp_Pctage_Y  MHExp_Pctage_2011  Dep_Num_2015  Suicide_p100  \n",
              "0             5.85               3.38          4.99          5.36  \n",
              "1             5.50               3.38          4.99          5.02  \n",
              "2             6.64               3.38          4.99          4.23  \n",
              "3             8.44               3.38          4.99          4.06  \n",
              "4             9.13               3.38          4.99          6.39  \n",
              "..             ...                ...           ...           ...  \n",
              "526           4.99               2.32          4.23          9.20  \n",
              "527           4.97               2.32          4.23          9.21  \n",
              "528           5.08               2.32          4.23          8.92  \n",
              "529           5.30               2.32          4.23          8.73  \n",
              "530           5.62               2.32          4.23          8.28  \n",
              "\n",
              "[531 rows x 9 columns]"
            ],
            "text/html": [
              "\n",
              "  <div id=\"df-c326b915-a8b3-4bc8-ac75-2b318d656ada\">\n",
              "    <div class=\"colab-df-container\">\n",
              "      <div>\n",
              "<style scoped>\n",
              "    .dataframe tbody tr th:only-of-type {\n",
              "        vertical-align: middle;\n",
              "    }\n",
              "\n",
              "    .dataframe tbody tr th {\n",
              "        vertical-align: top;\n",
              "    }\n",
              "\n",
              "    .dataframe thead th {\n",
              "        text-align: right;\n",
              "    }\n",
              "</style>\n",
              "<table border=\"1\" class=\"dataframe\">\n",
              "  <thead>\n",
              "    <tr style=\"text-align: right;\">\n",
              "      <th></th>\n",
              "      <th>Country_Name</th>\n",
              "      <th>Year</th>\n",
              "      <th>Population</th>\n",
              "      <th>Deaths_All_Types</th>\n",
              "      <th>Deaths_Suicides</th>\n",
              "      <th>HExp_Pctage_Y</th>\n",
              "      <th>MHExp_Pctage_2011</th>\n",
              "      <th>Dep_Num_2015</th>\n",
              "      <th>Suicide_p100</th>\n",
              "    </tr>\n",
              "  </thead>\n",
              "  <tbody>\n",
              "    <tr>\n",
              "      <th>0</th>\n",
              "      <td>Armenia</td>\n",
              "      <td>2006</td>\n",
              "      <td>3219235.0</td>\n",
              "      <td>54404</td>\n",
              "      <td>78</td>\n",
              "      <td>5.85</td>\n",
              "      <td>3.38</td>\n",
              "      <td>4.99</td>\n",
              "      <td>5.36</td>\n",
              "    </tr>\n",
              "    <tr>\n",
              "      <th>1</th>\n",
              "      <td>Armenia</td>\n",
              "      <td>2007</td>\n",
              "      <td>3107395.5</td>\n",
              "      <td>53660</td>\n",
              "      <td>0</td>\n",
              "      <td>5.50</td>\n",
              "      <td>3.38</td>\n",
              "      <td>4.99</td>\n",
              "      <td>5.02</td>\n",
              "    </tr>\n",
              "    <tr>\n",
              "      <th>2</th>\n",
              "      <td>Armenia</td>\n",
              "      <td>2008</td>\n",
              "      <td>3234031.0</td>\n",
              "      <td>54824</td>\n",
              "      <td>63</td>\n",
              "      <td>6.64</td>\n",
              "      <td>3.38</td>\n",
              "      <td>4.99</td>\n",
              "      <td>4.23</td>\n",
              "    </tr>\n",
              "    <tr>\n",
              "      <th>3</th>\n",
              "      <td>Armenia</td>\n",
              "      <td>2009</td>\n",
              "      <td>3066044.0</td>\n",
              "      <td>55120</td>\n",
              "      <td>53</td>\n",
              "      <td>8.44</td>\n",
              "      <td>3.38</td>\n",
              "      <td>4.99</td>\n",
              "      <td>4.06</td>\n",
              "    </tr>\n",
              "    <tr>\n",
              "      <th>4</th>\n",
              "      <td>Armenia</td>\n",
              "      <td>2012</td>\n",
              "      <td>3024127.0</td>\n",
              "      <td>55200</td>\n",
              "      <td>79</td>\n",
              "      <td>9.13</td>\n",
              "      <td>3.38</td>\n",
              "      <td>4.99</td>\n",
              "      <td>6.39</td>\n",
              "    </tr>\n",
              "    <tr>\n",
              "      <th>...</th>\n",
              "      <td>...</td>\n",
              "      <td>...</td>\n",
              "      <td>...</td>\n",
              "      <td>...</td>\n",
              "      <td>...</td>\n",
              "      <td>...</td>\n",
              "      <td>...</td>\n",
              "      <td>...</td>\n",
              "      <td>...</td>\n",
              "    </tr>\n",
              "    <tr>\n",
              "      <th>526</th>\n",
              "      <td>Uzbekistan</td>\n",
              "      <td>2015</td>\n",
              "      <td>31298929.0</td>\n",
              "      <td>304070</td>\n",
              "      <td>2392</td>\n",
              "      <td>4.99</td>\n",
              "      <td>2.32</td>\n",
              "      <td>4.23</td>\n",
              "      <td>9.20</td>\n",
              "    </tr>\n",
              "    <tr>\n",
              "      <th>527</th>\n",
              "      <td>Uzbekistan</td>\n",
              "      <td>2016</td>\n",
              "      <td>31847898.0</td>\n",
              "      <td>309582</td>\n",
              "      <td>2467</td>\n",
              "      <td>4.97</td>\n",
              "      <td>2.32</td>\n",
              "      <td>4.23</td>\n",
              "      <td>9.21</td>\n",
              "    </tr>\n",
              "    <tr>\n",
              "      <th>528</th>\n",
              "      <td>Uzbekistan</td>\n",
              "      <td>2017</td>\n",
              "      <td>32388561.0</td>\n",
              "      <td>321446</td>\n",
              "      <td>2417</td>\n",
              "      <td>5.08</td>\n",
              "      <td>2.32</td>\n",
              "      <td>4.23</td>\n",
              "      <td>8.92</td>\n",
              "    </tr>\n",
              "    <tr>\n",
              "      <th>529</th>\n",
              "      <td>Uzbekistan</td>\n",
              "      <td>2018</td>\n",
              "      <td>32956099.0</td>\n",
              "      <td>309826</td>\n",
              "      <td>2278</td>\n",
              "      <td>5.30</td>\n",
              "      <td>2.32</td>\n",
              "      <td>4.23</td>\n",
              "      <td>8.73</td>\n",
              "    </tr>\n",
              "    <tr>\n",
              "      <th>530</th>\n",
              "      <td>Uzbekistan</td>\n",
              "      <td>2019</td>\n",
              "      <td>33580390.0</td>\n",
              "      <td>309138</td>\n",
              "      <td>2318</td>\n",
              "      <td>5.62</td>\n",
              "      <td>2.32</td>\n",
              "      <td>4.23</td>\n",
              "      <td>8.28</td>\n",
              "    </tr>\n",
              "  </tbody>\n",
              "</table>\n",
              "<p>531 rows × 9 columns</p>\n",
              "</div>\n",
              "      <button class=\"colab-df-convert\" onclick=\"convertToInteractive('df-c326b915-a8b3-4bc8-ac75-2b318d656ada')\"\n",
              "              title=\"Convert this dataframe to an interactive table.\"\n",
              "              style=\"display:none;\">\n",
              "        \n",
              "  <svg xmlns=\"http://www.w3.org/2000/svg\" height=\"24px\"viewBox=\"0 0 24 24\"\n",
              "       width=\"24px\">\n",
              "    <path d=\"M0 0h24v24H0V0z\" fill=\"none\"/>\n",
              "    <path d=\"M18.56 5.44l.94 2.06.94-2.06 2.06-.94-2.06-.94-.94-2.06-.94 2.06-2.06.94zm-11 1L8.5 8.5l.94-2.06 2.06-.94-2.06-.94L8.5 2.5l-.94 2.06-2.06.94zm10 10l.94 2.06.94-2.06 2.06-.94-2.06-.94-.94-2.06-.94 2.06-2.06.94z\"/><path d=\"M17.41 7.96l-1.37-1.37c-.4-.4-.92-.59-1.43-.59-.52 0-1.04.2-1.43.59L10.3 9.45l-7.72 7.72c-.78.78-.78 2.05 0 2.83L4 21.41c.39.39.9.59 1.41.59.51 0 1.02-.2 1.41-.59l7.78-7.78 2.81-2.81c.8-.78.8-2.07 0-2.86zM5.41 20L4 18.59l7.72-7.72 1.47 1.35L5.41 20z\"/>\n",
              "  </svg>\n",
              "      </button>\n",
              "      \n",
              "  <style>\n",
              "    .colab-df-container {\n",
              "      display:flex;\n",
              "      flex-wrap:wrap;\n",
              "      gap: 12px;\n",
              "    }\n",
              "\n",
              "    .colab-df-convert {\n",
              "      background-color: #E8F0FE;\n",
              "      border: none;\n",
              "      border-radius: 50%;\n",
              "      cursor: pointer;\n",
              "      display: none;\n",
              "      fill: #1967D2;\n",
              "      height: 32px;\n",
              "      padding: 0 0 0 0;\n",
              "      width: 32px;\n",
              "    }\n",
              "\n",
              "    .colab-df-convert:hover {\n",
              "      background-color: #E2EBFA;\n",
              "      box-shadow: 0px 1px 2px rgba(60, 64, 67, 0.3), 0px 1px 3px 1px rgba(60, 64, 67, 0.15);\n",
              "      fill: #174EA6;\n",
              "    }\n",
              "\n",
              "    [theme=dark] .colab-df-convert {\n",
              "      background-color: #3B4455;\n",
              "      fill: #D2E3FC;\n",
              "    }\n",
              "\n",
              "    [theme=dark] .colab-df-convert:hover {\n",
              "      background-color: #434B5C;\n",
              "      box-shadow: 0px 1px 3px 1px rgba(0, 0, 0, 0.15);\n",
              "      filter: drop-shadow(0px 1px 2px rgba(0, 0, 0, 0.3));\n",
              "      fill: #FFFFFF;\n",
              "    }\n",
              "  </style>\n",
              "\n",
              "      <script>\n",
              "        const buttonEl =\n",
              "          document.querySelector('#df-c326b915-a8b3-4bc8-ac75-2b318d656ada button.colab-df-convert');\n",
              "        buttonEl.style.display =\n",
              "          google.colab.kernel.accessAllowed ? 'block' : 'none';\n",
              "\n",
              "        async function convertToInteractive(key) {\n",
              "          const element = document.querySelector('#df-c326b915-a8b3-4bc8-ac75-2b318d656ada');\n",
              "          const dataTable =\n",
              "            await google.colab.kernel.invokeFunction('convertToInteractive',\n",
              "                                                     [key], {});\n",
              "          if (!dataTable) return;\n",
              "\n",
              "          const docLinkHtml = 'Like what you see? Visit the ' +\n",
              "            '<a target=\"_blank\" href=https://colab.research.google.com/notebooks/data_table.ipynb>data table notebook</a>'\n",
              "            + ' to learn more about interactive tables.';\n",
              "          element.innerHTML = '';\n",
              "          dataTable['output_type'] = 'display_data';\n",
              "          await google.colab.output.renderOutput(dataTable, element);\n",
              "          const docLink = document.createElement('div');\n",
              "          docLink.innerHTML = docLinkHtml;\n",
              "          element.appendChild(docLink);\n",
              "        }\n",
              "      </script>\n",
              "    </div>\n",
              "  </div>\n",
              "  "
            ]
          },
          "metadata": {},
          "execution_count": 1
        }
      ],
      "source": [
        "import pandas as pd\n",
        "df = pd.read_csv('/content/WHO_MHExp_and_Deaths.csv')\n",
        "df"
      ]
    },
    {
      "cell_type": "code",
      "source": [
        "df.shape"
      ],
      "metadata": {
        "colab": {
          "base_uri": "https://localhost:8080/"
        },
        "id": "aMq-92lwcZYL",
        "outputId": "725486f6-2074-430b-fad0-eae7b4fad63a"
      },
      "execution_count": null,
      "outputs": [
        {
          "output_type": "execute_result",
          "data": {
            "text/plain": [
              "(531, 9)"
            ]
          },
          "metadata": {},
          "execution_count": 2
        }
      ]
    },
    {
      "cell_type": "code",
      "source": [
        "df.info()"
      ],
      "metadata": {
        "colab": {
          "base_uri": "https://localhost:8080/"
        },
        "id": "5sLn8FrHcuv2",
        "outputId": "f3811f24-fc94-41db-f98a-2a7a34bcc0d1"
      },
      "execution_count": null,
      "outputs": [
        {
          "output_type": "stream",
          "name": "stdout",
          "text": [
            "<class 'pandas.core.frame.DataFrame'>\n",
            "RangeIndex: 531 entries, 0 to 530\n",
            "Data columns (total 9 columns):\n",
            " #   Column             Non-Null Count  Dtype  \n",
            "---  ------             --------------  -----  \n",
            " 0   Country_Name       531 non-null    object \n",
            " 1   Year               531 non-null    int64  \n",
            " 2   Population         531 non-null    float64\n",
            " 3   Deaths_All_Types   531 non-null    int64  \n",
            " 4   Deaths_Suicides    531 non-null    int64  \n",
            " 5   HExp_Pctage_Y      531 non-null    float64\n",
            " 6   MHExp_Pctage_2011  531 non-null    float64\n",
            " 7   Dep_Num_2015       531 non-null    float64\n",
            " 8   Suicide_p100       531 non-null    float64\n",
            "dtypes: float64(5), int64(3), object(1)\n",
            "memory usage: 37.5+ KB\n"
          ]
        }
      ]
    },
    {
      "cell_type": "code",
      "source": [
        "x = df.iloc[:,3:5].values\n",
        "x"
      ],
      "metadata": {
        "colab": {
          "base_uri": "https://localhost:8080/"
        },
        "id": "fG_xJ-h8cxGY",
        "outputId": "c99899b2-023f-4646-fe32-5900f801353c"
      },
      "execution_count": null,
      "outputs": [
        {
          "output_type": "execute_result",
          "data": {
            "text/plain": [
              "array([[ 54404,     78],\n",
              "       [ 53660,      0],\n",
              "       [ 54824,     63],\n",
              "       ...,\n",
              "       [321446,   2417],\n",
              "       [309826,   2278],\n",
              "       [309138,   2318]])"
            ]
          },
          "metadata": {},
          "execution_count": 4
        }
      ]
    },
    {
      "cell_type": "code",
      "source": [
        "import matplotlib.pyplot as plt\n",
        "plt.scatter(df['Deaths_All_Types'],df['Deaths_Suicides'])"
      ],
      "metadata": {
        "colab": {
          "base_uri": "https://localhost:8080/",
          "height": 296
        },
        "id": "k3j9mo7KdTLr",
        "outputId": "6ede5cbf-07bc-4350-95c1-e4c91fc41421"
      },
      "execution_count": null,
      "outputs": [
        {
          "output_type": "execute_result",
          "data": {
            "text/plain": [
              "<matplotlib.collections.PathCollection at 0x7f9f7c70f750>"
            ]
          },
          "metadata": {},
          "execution_count": 5
        },
        {
          "output_type": "display_data",
          "data": {
            "text/plain": [
              "<Figure size 432x288 with 1 Axes>"
            ],
            "image/png": "[encoded data removed]"
          },
          "metadata": {
            "needs_background": "light"
          }
        }
      ]
    },
    {
      "cell_type": "code",
      "source": [
        "import numpy as np\n",
        "np.sqrt(531)"
      ],
      "metadata": {
        "colab": {
          "base_uri": "https://localhost:8080/"
        },
        "id": "5lWcw4gsdoX5",
        "outputId": "d3e3ff5d-2faa-4b7e-c922-a49f38165664"
      },
      "execution_count": null,
      "outputs": [
        {
          "output_type": "execute_result",
          "data": {
            "text/plain": [
              "23.043437243605826"
            ]
          },
          "metadata": {},
          "execution_count": 6
        }
      ]
    },
    {
      "cell_type": "code",
      "source": [
        "from sklearn.cluster import KMeans\n",
        "k = range(2,24)\n",
        "\n",
        "sse = []\n",
        "for i in k :\n",
        "  model_demo = KMeans(n_clusters = i,random_state = 0)\n",
        "  model_demo.fit(x)\n",
        "  sse.append(model_demo.inertia_)\n",
        "plt.scatter(k,sse)\n",
        "plt.plot(k,sse) \n",
        "\n"
      ],
      "metadata": {
        "colab": {
          "base_uri": "https://localhost:8080/",
          "height": 294
        },
        "id": "z-1hQEPqeBCp",
        "outputId": "1835bc46-cd01-42e2-b17d-5c035f18508b"
      },
      "execution_count": null,
      "outputs": [
        {
          "output_type": "execute_result",
          "data": {
            "text/plain": [
              "[<matplotlib.lines.Line2D at 0x7f9f6f743290>]"
            ]
          },
          "metadata": {},
          "execution_count": 8
        },
        {
          "output_type": "display_data",
          "data": {
            "text/plain": [
              "<Figure size 432x288 with 1 Axes>"
            ],
            "image/png": "[encoded data removed]"
          },
          "metadata": {
            "needs_background": "light"
          }
        }
      ]
    },
    {
      "cell_type": "code",
      "source": [
        "from sklearn.metrics import silhouette_score\n",
        "k = range(2,24)\n",
        "for i in k :\n",
        "  model_demo = KMeans(n_clusters = i,random_state = 0)\n",
        "  model_demo.fit(x)\n",
        "  y_pred = model_demo.predict(x)\n",
        "  print(f\"{i} clusters , Score = {silhouette_score(x,y_pred)}\")\n",
        "  plt.bar(i,silhouette_score(x,y_pred))\n"
      ],
      "metadata": {
        "colab": {
          "base_uri": "https://localhost:8080/",
          "height": 666
        },
        "id": "P3lWyd6pfVzJ",
        "outputId": "4642d265-bb30-4d0e-9179-4fc38b046fdc"
      },
      "execution_count": null,
      "outputs": [
        {
          "output_type": "stream",
          "name": "stdout",
          "text": [
            "2 clusters , Score = 0.7638149294161292\n",
            "3 clusters , Score = 0.8047016030178724\n",
            "4 clusters , Score = 0.8049943503364908\n",
            "5 clusters , Score = 0.7129648275103282\n",
            "6 clusters , Score = 0.7219606988649296\n",
            "7 clusters , Score = 0.7183908304348985\n",
            "8 clusters , Score = 0.6761636516397092\n",
            "9 clusters , Score = 0.6764274078720108\n",
            "10 clusters , Score = 0.6532386120542194\n",
            "11 clusters , Score = 0.6147311615287636\n",
            "12 clusters , Score = 0.6305984480852689\n",
            "13 clusters , Score = 0.6292358390881377\n",
            "14 clusters , Score = 0.6284298319489405\n",
            "15 clusters , Score = 0.6253893605010244\n",
            "16 clusters , Score = 0.614321512373529\n",
            "17 clusters , Score = 0.6126622482637394\n",
            "18 clusters , Score = 0.6232596916385413\n",
            "19 clusters , Score = 0.6150617468104527\n",
            "20 clusters , Score = 0.6141882481302794\n",
            "21 clusters , Score = 0.6119179016850484\n",
            "22 clusters , Score = 0.6114801878017337\n",
            "23 clusters , Score = 0.6330626134177705\n"
          ]
        },
        {
          "output_type": "display_data",
          "data": {
            "text/plain": [
              "<Figure size 432x288 with 1 Axes>"
            ],
            "image/png": "[encoded data removed]"
          },
          "metadata": {
            "needs_background": "light"
          }
        }
      ]
    },
    {
      "cell_type": "code",
      "source": [
        "k = 5\n",
        "from sklearn.cluster import KMeans\n",
        "\n",
        "\n",
        "model = KMeans(n_clusters=5,random_state=0)\n",
        "model.fit(x)\n",
        "\n",
        "\n",
        "\n"
      ],
      "metadata": {
        "colab": {
          "base_uri": "https://localhost:8080/"
        },
        "id": "yuFYrmT_g-A7",
        "outputId": "047ba3e4-a028-40b0-8229-c411d47803e0"
      },
      "execution_count": null,
      "outputs": [
        {
          "output_type": "execute_result",
          "data": {
            "text/plain": [
              "KMeans(n_clusters=5, random_state=0)"
            ]
          },
          "metadata": {},
          "execution_count": 11
        }
      ]
    },
    {
      "cell_type": "code",
      "source": [
        "y = model.predict(x)\n",
        "y"
      ],
      "metadata": {
        "colab": {
          "base_uri": "https://localhost:8080/"
        },
        "id": "s6Lvfc2Ai08Y",
        "outputId": "2a70a80e-934a-4b67-b11c-f248fa8320f2"
      },
      "execution_count": null,
      "outputs": [
        {
          "output_type": "execute_result",
          "data": {
            "text/plain": [
              "array([3, 3, 3, 3, 3, 3, 3, 3, 3, 3, 3, 3, 0, 0, 0, 0, 0, 0, 0, 0, 0, 0,\n",
              "       0, 0, 0, 0, 0, 0, 0, 0, 0, 3, 3, 3, 3, 3, 2, 0, 0, 0, 0, 0, 0, 0,\n",
              "       0, 0, 0, 0, 0, 0, 0, 0, 0, 0, 0, 0, 0, 0, 3, 3, 3, 3, 3, 3, 3, 3,\n",
              "       3, 3, 3, 3, 3, 3, 3, 3, 3, 4, 4, 4, 4, 4, 4, 4, 4, 4, 4, 4, 4, 4,\n",
              "       4, 4, 4, 4, 4, 4, 3, 3, 3, 3, 3, 3, 3, 3, 3, 3, 3, 3, 3, 3, 3, 3,\n",
              "       3, 3, 3, 3, 3, 3, 3, 3, 3, 3, 3, 3, 3, 3, 3, 3, 3, 3, 3, 3, 4, 4,\n",
              "       4, 4, 4, 4, 4, 4, 4, 4, 4, 4, 4, 4, 4, 3, 3, 3, 3, 3, 3, 3, 3, 3,\n",
              "       3, 3, 3, 3, 3, 3, 3, 3, 1, 1, 1, 1, 1, 1, 1, 1, 1, 1, 1, 1, 1, 1,\n",
              "       1, 1, 1, 1, 1, 1, 0, 0, 0, 0, 0, 0, 0, 0, 0, 0, 0, 0, 0, 0, 0, 0,\n",
              "       0, 0, 0, 0, 0, 0, 0, 0, 0, 0, 3, 3, 3, 3, 3, 3, 3, 3, 3, 3, 3, 3,\n",
              "       3, 3, 3, 3, 3, 3, 3, 3, 4, 4, 4, 4, 4, 4, 4, 4, 4, 4, 4, 4, 4, 4,\n",
              "       4, 4, 1, 1, 1, 1, 1, 2, 2, 2, 2, 2, 2, 2, 2, 2, 2, 2, 2, 2, 2, 2,\n",
              "       3, 3, 3, 3, 3, 3, 3, 3, 3, 3, 3, 3, 3, 3, 3, 3, 3, 3, 3, 3, 3, 3,\n",
              "       3, 3, 3, 3, 3, 3, 3, 3, 3, 3, 3, 3, 3, 3, 3, 3, 3, 3, 3, 3, 3, 3,\n",
              "       3, 3, 3, 3, 3, 3, 3, 3, 3, 3, 3, 3, 3, 3, 3, 3, 3, 3, 3, 3, 3, 3,\n",
              "       3, 3, 0, 0, 0, 0, 0, 0, 0, 0, 0, 0, 0, 0, 0, 0, 0, 0, 0, 0, 0, 0,\n",
              "       3, 3, 3, 3, 3, 3, 3, 3, 3, 3, 3, 3, 3, 3, 3, 3, 4, 4, 4, 4, 4, 4,\n",
              "       4, 4, 4, 4, 4, 4, 4, 4, 4, 4, 4, 4, 4, 4, 0, 0, 0, 0, 0, 0, 0, 0,\n",
              "       0, 0, 0, 0, 0, 0, 0, 0, 3, 3, 3, 3, 3, 3, 3, 3, 3, 3, 3, 3, 3, 3,\n",
              "       3, 3, 3, 3, 3, 3, 3, 3, 3, 3, 3, 3, 3, 3, 3, 3, 3, 3, 3, 3, 3, 3,\n",
              "       3, 3, 3, 3, 3, 3, 3, 3, 3, 3, 3, 3, 3, 4, 4, 4, 4, 4, 4, 4, 4, 4,\n",
              "       4, 4, 4, 4, 4, 4, 4, 4, 4, 4, 0, 0, 0, 0, 0, 0, 0, 0, 0, 0, 0, 0,\n",
              "       0, 0, 0, 0, 0, 0, 0, 0, 3, 3, 3, 3, 0, 0, 0, 0, 0, 3, 3, 4, 4, 4,\n",
              "       4, 4, 4, 4, 4, 4, 4, 4, 4, 4, 4, 3, 0, 0, 0, 0, 0, 0, 0, 0, 0, 0,\n",
              "       0, 0, 0], dtype=int32)"
            ]
          },
          "metadata": {},
          "execution_count": 13
        }
      ]
    },
    {
      "cell_type": "code",
      "source": [
        "y.size"
      ],
      "metadata": {
        "colab": {
          "base_uri": "https://localhost:8080/"
        },
        "id": "7_RXvpgEi9hR",
        "outputId": "aa4e96fb-1083-4b9f-804a-5f7251712375"
      },
      "execution_count": null,
      "outputs": [
        {
          "output_type": "execute_result",
          "data": {
            "text/plain": [
              "531"
            ]
          },
          "metadata": {},
          "execution_count": 14
        }
      ]
    },
    {
      "cell_type": "code",
      "source": [
        "x[y == 1,1]"
      ],
      "metadata": {
        "colab": {
          "base_uri": "https://localhost:8080/"
        },
        "id": "OXLek_XGjZsZ",
        "outputId": "63da22ef-2514-45aa-898f-92c5ba02bf3e"
      },
      "execution_count": null,
      "outputs": [
        {
          "output_type": "execute_result",
          "data": {
            "text/plain": [
              "array([ 8, 11, 13,  5,  8, 10, 10,  7,  8,  8,  9,  9,  6, 15,  8, 10, 14,\n",
              "        7, 13, 10,  5,  9,  4,  9,  8])"
            ]
          },
          "metadata": {},
          "execution_count": 15
        }
      ]
    },
    {
      "cell_type": "code",
      "source": [
        "x[y == 23,1]"
      ],
      "metadata": {
        "colab": {
          "base_uri": "https://localhost:8080/"
        },
        "id": "VCfqUz0Wj1bo",
        "outputId": "37022f67-f7e2-4c3e-faf1-5dc5dda30b00"
      },
      "execution_count": null,
      "outputs": [
        {
          "output_type": "execute_result",
          "data": {
            "text/plain": [
              "array([], dtype=int64)"
            ]
          },
          "metadata": {},
          "execution_count": 16
        }
      ]
    },
    {
      "cell_type": "code",
      "source": [
        "np.unique(y,return_counts = True)"
      ],
      "metadata": {
        "colab": {
          "base_uri": "https://localhost:8080/"
        },
        "id": "_K2ijsCEj9iU",
        "outputId": "b84077d7-9195-4f16-f7de-d5c7bbdee981"
      },
      "execution_count": null,
      "outputs": [
        {
          "output_type": "execute_result",
          "data": {
            "text/plain": [
              "(array([0, 1, 2, 3, 4], dtype=int32), array([140,  25,  16, 247, 103]))"
            ]
          },
          "metadata": {},
          "execution_count": 17
        }
      ]
    },
    {
      "cell_type": "code",
      "source": [
        "plt.figure(figsize = (10,5))\n",
        "for i in range(k):\n",
        "  plt.scatter(x[y == i,0],x[y == i,1],label = f'Cluster {i}')\n",
        "plt.scatter(model.cluster_centers_[:,0],model.cluster_centers_[:,1],s = 300,c='yellow',label ='centroids')  \n",
        "plt.legend()  \n"
      ],
      "metadata": {
        "colab": {
          "base_uri": "https://localhost:8080/",
          "height": 351
        },
        "id": "1qaecJAGkJLF",
        "outputId": "9cb96cc6-b6c7-4479-a22a-9cbe0019bba9"
      },
      "execution_count": null,
      "outputs": [
        {
          "output_type": "execute_result",
          "data": {
            "text/plain": [
              "<matplotlib.legend.Legend at 0x7f9f69bc4dd0>"
            ]
          },
          "metadata": {},
          "execution_count": 20
        },
        {
          "output_type": "display_data",
          "data": {
            "text/plain": [
              "<Figure size 720x360 with 1 Axes>"
            ],
            "image/png": "[encoded data removed]"
          },
          "metadata": {
            "needs_background": "light"
          }
        }
      ]
    },
    {
      "cell_type": "code",
      "source": [],
      "metadata": {
        "id": "DG-9KLxylHqH"
      },
      "execution_count": null,
      "outputs": []
    }
  ]
}